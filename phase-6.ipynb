{
 "cells": [
  {
   "cell_type": "markdown",
   "id": "4cdc6211",
   "metadata": {},
   "source": [
    "# Convert a 1D array into a 2D array (how to add a new axis to an array)"
   ]
  },
  {
   "cell_type": "code",
   "execution_count": 2,
   "id": "e70b218f",
   "metadata": {},
   "outputs": [],
   "source": [
    "import numpy as np"
   ]
  },
  {
   "cell_type": "code",
   "execution_count": 3,
   "id": "c5217c05",
   "metadata": {},
   "outputs": [
    {
     "name": "stdout",
     "output_type": "stream",
     "text": [
      "(6,)\n",
      "(1, 6)\n",
      "(1, 1, 6)\n",
      "(7, 1)\n",
      "(1, 7)\n"
     ]
    }
   ],
   "source": [
    "arr = np.array([1,2,3,4,5,6])\n",
    "print(arr.shape)\n",
    "\n",
    "#  to add a new axis\n",
    "# 1D => 2D\n",
    "arr2 = arr[np.newaxis,:] # np.newaxis => increases the dimensions of your array by one dimension when used once. This means that a 1D array will become a 2D array, a 2D array will become a 3D array, and so on.\n",
    "print(arr2.shape)\n",
    "# 2D => 3D\n",
    "arr3 = arr2[np.newaxis,:]\n",
    "print(arr3.shape)\n",
    "\n",
    "# for a column vector, you can insert an axis along the second dimension\n",
    "# col_vec = arr2[:,np.newaxis]\n",
    "# print(col_vec.shape)\n",
    "\n",
    "# expand an array by inserting a new axis at a specified position\n",
    "a = np.array([3,5,1,8,6,9,0])\n",
    "a2 = np.expand_dims(a, axis = 1) # at index position 1\n",
    "print(a2.shape)\n",
    "\n",
    "a3 = np.expand_dims(a, axis = 0) # at index position 0\n",
    "print(a3.shape)"
   ]
  },
  {
   "cell_type": "markdown",
   "id": "5b3f79b0",
   "metadata": {},
   "source": [
    "# Split an array into several smaller arrays"
   ]
  },
  {
   "cell_type": "code",
   "execution_count": 17,
   "id": "084a3237",
   "metadata": {},
   "outputs": [
    {
     "name": "stdout",
     "output_type": "stream",
     "text": [
      "[[ 1  2  3  4  5  6  7  8  9 10 11 12]\n",
      " [13 14 15 16 17 18 19 20 21 22 23 24]]\n",
      "\n",
      "split this array into three equally shaped arrays\n",
      "[array([[ 1,  2,  3,  4],\n",
      "       [13, 14, 15, 16]]), array([[ 5,  6,  7,  8],\n",
      "       [17, 18, 19, 20]]), array([[ 9, 10, 11, 12],\n",
      "       [21, 22, 23, 24]])]\n",
      "\n",
      "split your array after the third and fourth column\n",
      "[array([[ 1,  2,  3],\n",
      "       [13, 14, 15]]), array([[ 4],\n",
      "       [16]]), array([[ 5,  6,  7,  8,  9, 10, 11, 12],\n",
      "       [17, 18, 19, 20, 21, 22, 23, 24]])]\n"
     ]
    }
   ],
   "source": [
    "ar = np.arange(1,25).reshape(2,12)\n",
    "print(ar)\n",
    "\n",
    "print('\\nsplit this array into three equally shaped arrays')\n",
    "print(np.hsplit(ar, 3))\n",
    "\n",
    "print('\\nsplit your array after the third and fourth column')\n",
    "print(np.hsplit(ar,(3,4)))"
   ]
  },
  {
   "cell_type": "markdown",
   "id": "d992c61c",
   "metadata": {},
   "source": [
    "# Reverse an array"
   ]
  },
  {
   "cell_type": "code",
   "execution_count": 19,
   "id": "8d9b30e4",
   "metadata": {},
   "outputs": [
    {
     "name": "stdout",
     "output_type": "stream",
     "text": [
      "\n",
      "Reverse 1D array\n",
      "[8 7 6 5 4 3 2 1]\n",
      "\n",
      "Reverse 2D array\n",
      "[[12 11 10  9]\n",
      " [ 8  7  6  5]\n",
      " [ 4  3  2  1]]\n",
      "\n",
      "reverse only the rows\n",
      "[[ 9 10 11 12]\n",
      " [ 5  6  7  8]\n",
      " [ 1  2  3  4]]\n",
      "\n",
      "reverse only the column\n",
      "[[ 4  3  2  1]\n",
      " [ 8  7  6  5]\n",
      " [12 11 10  9]]\n"
     ]
    }
   ],
   "source": [
    "arr = np.array([1, 2, 3, 4, 5, 6, 7, 8])\n",
    "print('\\nReverse 1D array')\n",
    "rev_arr = np.flip(arr)\n",
    "print(rev_arr)\n",
    "\n",
    "arr_2d = np.array([[1, 2, 3, 4], [5, 6, 7, 8], [9, 10, 11, 12]])\n",
    "print('\\nReverse 2D array')\n",
    "rev_arr2 = np.flip(arr_2d)\n",
    "print(rev_arr2)\n",
    "\n",
    "print('\\nreverse only the rows')\n",
    "rev_rows = np.flip(arr_2d, axis=0)\n",
    "print(rev_rows)\n",
    "\n",
    "print('\\nreverse only the column')\n",
    "rev_col = np.flip(arr_2d, axis=1)\n",
    "print(rev_col)"
   ]
  }
 ],
 "metadata": {
  "kernelspec": {
   "display_name": "Python 3",
   "language": "python",
   "name": "python3"
  },
  "language_info": {
   "codemirror_mode": {
    "name": "ipython",
    "version": 3
   },
   "file_extension": ".py",
   "mimetype": "text/x-python",
   "name": "python",
   "nbconvert_exporter": "python",
   "pygments_lexer": "ipython3",
   "version": "3.12.5"
  }
 },
 "nbformat": 4,
 "nbformat_minor": 5
}
