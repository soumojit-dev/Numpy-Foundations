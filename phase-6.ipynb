{
 "cells": [
  {
   "cell_type": "markdown",
   "id": "4cdc6211",
   "metadata": {},
   "source": [
    "# Convert a 1D array into a 2D array (how to add a new axis to an array)"
   ]
  },
  {
   "cell_type": "code",
   "execution_count": 2,
   "id": "e70b218f",
   "metadata": {},
   "outputs": [],
   "source": [
    "import numpy as np"
   ]
  },
  {
   "cell_type": "code",
   "execution_count": null,
   "id": "c5217c05",
   "metadata": {},
   "outputs": [
    {
     "name": "stdout",
     "output_type": "stream",
     "text": [
      "(6,)\n",
      "(1, 6)\n",
      "(1, 1, 6)\n",
      "(7, 1)\n",
      "(1, 7)\n"
     ]
    }
   ],
   "source": [
    "arr = np.array([1,2,3,4,5,6])\n",
    "print(arr.shape)\n",
    "\n",
    "#  to add a new axis\n",
    "# 1D => 2D\n",
    "arr2 = arr[np.newaxis,:] # np.newaxis => increases the dimensions of your array by one dimension when used once. This means that a 1D array will become a 2D array, a 2D array will become a 3D array, and so on.\n",
    "print(arr2.shape)\n",
    "# 2D => 3D\n",
    "arr3 = arr2[np.newaxis,:]\n",
    "print(arr3.shape)\n",
    "\n",
    "# for a column vector, you can insert an axis along the second dimension\n",
    "# col_vec = arr2[:,np.newaxis]\n",
    "# print(col_vec.shape)\n",
    "\n",
    "# expand an array by inserting a new axis at a specified position\n",
    "a = np.array([3,5,1,8,6,9,0])\n",
    "a2 = np.expand_dims(a, axis = 1) # at index position 1\n",
    "print(a2.shape)\n",
    "\n",
    "a3 = np.expand_dims(a, axis = 0) # at index position 0\n",
    "print(a3.shape)"
   ]
  }
 ],
 "metadata": {
  "kernelspec": {
   "display_name": "Python 3",
   "language": "python",
   "name": "python3"
  },
  "language_info": {
   "codemirror_mode": {
    "name": "ipython",
    "version": 3
   },
   "file_extension": ".py",
   "mimetype": "text/x-python",
   "name": "python",
   "nbconvert_exporter": "python",
   "pygments_lexer": "ipython3",
   "version": "3.12.5"
  }
 },
 "nbformat": 4,
 "nbformat_minor": 5
}
