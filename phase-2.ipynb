{
 "cells": [
  {
   "cell_type": "markdown",
   "id": "28f3fe81",
   "metadata": {},
   "source": [
    "## Numpy Array Operations"
   ]
  },
  {
   "cell_type": "code",
   "execution_count": 1,
   "id": "9a51c802",
   "metadata": {},
   "outputs": [],
   "source": [
    "import numpy as np"
   ]
  },
  {
   "cell_type": "markdown",
   "id": "632370c2",
   "metadata": {},
   "source": [
    "## Slicing - 1D ARRAY\n"
   ]
  },
  {
   "cell_type": "code",
   "execution_count": 2,
   "id": "a4f05d95",
   "metadata": {},
   "outputs": [
    {
     "name": "stdout",
     "output_type": "stream",
     "text": [
      "Basic Slicing:\n",
      " [4 5 6 7 8]\n",
      "Step Slicing:\n",
      " [4 6 8]\n",
      "Negative Slicing:\n",
      " [10  9  8  7  6  5  4  3  2  1]\n"
     ]
    }
   ],
   "source": [
    "arr = np.array([1,2,3,4,5,6,7,8,9,10])\n",
    "print(\"Basic Slicing:\\n\", arr[3:8])\n",
    "print(\"Step Slicing:\\n\", arr[3:8:2])\n",
    "print(\"Negative Slicing:\\n\", arr[::-1])\n"
   ]
  },
  {
   "cell_type": "markdown",
   "id": "7324749c",
   "metadata": {},
   "source": [
    "## Slicing - 2D ARRAY"
   ]
  },
  {
   "cell_type": "code",
   "execution_count": 7,
   "id": "eec3716c",
   "metadata": {},
   "outputs": [
    {
     "name": "stdout",
     "output_type": "stream",
     "text": [
      "Specific Element: 3\n",
      "Entire Row: [7 8 9]\n",
      "Entire Column: [2 5 8]\n"
     ]
    }
   ],
   "source": [
    "arr2 = np.array([[1,2,3],  # ROW 0\n",
    "                 [4,5,6],  # ROW 1\n",
    "                 [7,8,9]]) # ROW 2\n",
    "print(\"Specific Element:\",arr2[0,2]) # arr2[row,col]\n",
    "print(\"Entire Row:\",arr2[2])  # arr2[row]\n",
    "print(\"Entire Column:\",arr2[:,1])  # arr2[row:,col]"
   ]
  },
  {
   "cell_type": "markdown",
   "id": "2f20bf12",
   "metadata": {},
   "source": [
    "## Sorting Array 1D & 2D"
   ]
  },
  {
   "cell_type": "code",
   "execution_count": 13,
   "id": "bd95052b",
   "metadata": {},
   "outputs": [
    {
     "name": "stdout",
     "output_type": "stream",
     "text": [
      "Sorted: [0 1 3 4 5 5 6 7 8 9]\n",
      "Column-Wise Sorting:\n",
      " [[1 2]\n",
      " [5 3]\n",
      " [6 6]\n",
      " [8 7]]\n",
      "Row-Wise Sorting:\n",
      " [[6 8]\n",
      " [1 3]\n",
      " [6 7]\n",
      " [2 5]]\n"
     ]
    }
   ],
   "source": [
    "unsorted = np.array([3,5,6,1,4,9,8,5,0,7])\n",
    "print(\"Sorted:\",np.sort(unsorted))\n",
    "\n",
    "arr2_unsorted = np.array([[8,6],\n",
    "                          [1,3],\n",
    "                          [6,7],\n",
    "                          [5,2]])\n",
    "print(\"Column-Wise Sorting:\\n\",np.sort(arr2_unsorted, axis=0))\n",
    "print(\"Row-Wise Sorting:\\n\",np.sort(arr2_unsorted, axis=1))\n"
   ]
  },
  {
   "cell_type": "markdown",
   "id": "572844d8",
   "metadata": {},
   "source": [
    "## Filter"
   ]
  },
  {
   "cell_type": "code",
   "execution_count": 16,
   "id": "281b8c11",
   "metadata": {},
   "outputs": [
    {
     "name": "stdout",
     "output_type": "stream",
     "text": [
      "Even Numbers: [ 2  4  6  8 10]\n"
     ]
    }
   ],
   "source": [
    "num = np.array([1,2,3,4,5,6,7,8,9,10])\n",
    "even_num = num[num % 2 == 0]\n",
    "print(\"Even Numbers:\", even_num)\n"
   ]
  },
  {
   "cell_type": "markdown",
   "id": "3e5d408e",
   "metadata": {},
   "source": [
    "## Filtering with Mask"
   ]
  },
  {
   "cell_type": "code",
   "execution_count": null,
   "id": "46c5d964",
   "metadata": {},
   "outputs": [
    {
     "name": "stdout",
     "output_type": "stream",
     "text": [
      "Numbers less than 7: [1 2 3 4 5 6]\n"
     ]
    }
   ],
   "source": [
    "mask = num < 7  # Directly stores the evaluating condition\n",
    "print(\"Numbers less than 7:\", num[mask])"
   ]
  },
  {
   "cell_type": "markdown",
   "id": "bed87139",
   "metadata": {},
   "source": [
    "## Fancy Indexing vs np.where()"
   ]
  },
  {
   "cell_type": "code",
   "execution_count": 21,
   "id": "7d6c718c",
   "metadata": {},
   "outputs": [
    {
     "name": "stdout",
     "output_type": "stream",
     "text": [
      "Fancy Indexing: [ 4  8 10]\n",
      "Where Clause Result: [ 2  4  6  8 10]\n",
      "Conditional Array: [ 1  6  3 12  5 18  7 24  9 30]\n"
     ]
    }
   ],
   "source": [
    "num = np.array([1,2,3,4,5,6,7,8,9,10])\n",
    "indices = [3, 7, 9]\n",
    "print(\"Fancy Indexing:\", num[indices])\n",
    "\n",
    "where_output = np.where(num%2==0) # Like mask, but not a mask as it first checks whether the condition in T or F\n",
    "print(\"Where Clause Result:\",num[where_output])\n",
    "\n",
    "cond_arr = np.where(num%2==0, num*3, num) # np.where(main condition, x val, y val(basis of which array))\n",
    "print(\"Conditional Array:\", cond_arr)"
   ]
  },
  {
   "cell_type": "markdown",
   "id": "57e5ca55",
   "metadata": {},
   "source": [
    "## Adding and Removing Data"
   ]
  },
  {
   "cell_type": "code",
   "execution_count": 23,
   "id": "d7bc08bf",
   "metadata": {},
   "outputs": [
    {
     "name": "stdout",
     "output_type": "stream",
     "text": [
      "Simple Addition: [5 7 9]\n",
      "Combined Data: [1 2 3 4 5 6]\n"
     ]
    }
   ],
   "source": [
    "a1 = np.array([1,2,3])\n",
    "a2 = np.array([4,5,6])\n",
    "\n",
    "add = a1 + a2 # simple addition of elements\n",
    "print(\"Simple Addition:\",add)\n",
    "\n",
    "combine = np.concatenate((a1, a2)) # Adds/Combines the Data\n",
    "print(\"Combined Data:\",combine)"
   ]
  },
  {
   "cell_type": "markdown",
   "id": "87c5910b",
   "metadata": {},
   "source": [
    "## Array Compatibility Testing"
   ]
  },
  {
   "cell_type": "code",
   "execution_count": null,
   "id": "2c3da5a1",
   "metadata": {},
   "outputs": [
    {
     "name": "stdout",
     "output_type": "stream",
     "text": [
      "Array Compatibility? True\n",
      "Array Compatibility? False\n"
     ]
    }
   ],
   "source": [
    "a1 = np.array([1,2,3])\n",
    "a2 = np.array([4,5,6])\n",
    "a3 = np.array([7,8,9,10])\n",
    "\n",
    "print(\"Array Compatibility?\",a1.shape == a2.shape) # Same Dimension\n",
    "print(\"Array Compatibility?\",a1.shape == a3.shape) # Dimension Differs"
   ]
  }
 ],
 "metadata": {
  "kernelspec": {
   "display_name": "base",
   "language": "python",
   "name": "python3"
  },
  "language_info": {
   "codemirror_mode": {
    "name": "ipython",
    "version": 3
   },
   "file_extension": ".py",
   "mimetype": "text/x-python",
   "name": "python",
   "nbconvert_exporter": "python",
   "pygments_lexer": "ipython3",
   "version": "3.13.5"
  }
 },
 "nbformat": 4,
 "nbformat_minor": 5
}
