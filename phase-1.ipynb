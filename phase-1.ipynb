{
 "cells": [
  {
   "cell_type": "markdown",
   "id": "286550d8",
   "metadata": {},
   "source": [
    "## Numpy Array and Basics"
   ]
  },
  {
   "cell_type": "code",
   "execution_count": 1,
   "id": "aff37d57",
   "metadata": {},
   "outputs": [],
   "source": [
    "import numpy as np"
   ]
  },
  {
   "cell_type": "markdown",
   "id": "2a4fe700",
   "metadata": {},
   "source": [
    "### Creating array from list"
   ]
  },
  {
   "cell_type": "code",
   "execution_count": 2,
   "id": "4ab2b996",
   "metadata": {},
   "outputs": [
    {
     "name": "stdout",
     "output_type": "stream",
     "text": [
      "1d array:  [1 2 3 4 5]\n",
      "2D ARRAY:\n",
      " [[1 2 3]\n",
      " [4 5 6]]\n"
     ]
    }
   ],
   "source": [
    "arr_1d = np.array([1,2,3,4,5])\n",
    "print(\"1d array: \",arr_1d)\n",
    "\n",
    "arr_2d = np.array([[1,2,3],\n",
    "                   [4,5,6]])\n",
    "print(\"2D ARRAY:\\n\",arr_2d)"
   ]
  },
  {
   "cell_type": "markdown",
   "id": "f9f33969",
   "metadata": {},
   "source": [
    "### List vs Numpy Array\n"
   ]
  },
  {
   "cell_type": "code",
   "execution_count": 3,
   "id": "87ea1615",
   "metadata": {},
   "outputs": [
    {
     "name": "stdout",
     "output_type": "stream",
     "text": [
      "Python List Multiplication:  [1, 2, 3, 1, 2, 3]\n",
      "Numpy Array Multiplication:  [2 4 6]\n",
      "\n",
      " List Operation Time:  1.4689276218414307\n",
      "\n",
      " Numpy Array Operation Time:  0.07024359703063965\n"
     ]
    }
   ],
   "source": [
    "py_list = [1,2,3]\n",
    "print(\"Python List Multiplication: \",py_list*2)\n",
    "\n",
    "np_arr = np.array([1,2,3]) #element wise multiplication\n",
    "print(\"Numpy Array Multiplication: \",np_arr*2)\n",
    "\n",
    "#Checking Efficiency Between The Two\n",
    "\n",
    "import time\n",
    "start = time.time()\n",
    "py_list = [i*2 for i in range(10000000)]\n",
    "print(\"\\n List Operation Time: \", time.time() - start)\n",
    "\n",
    "start = time.time()\n",
    "np_arr = np.arange(10000000) * 2  #arange() generates array withing the 'specified' range like 10000000\n",
    "print(\"\\n Numpy Array Operation Time: \", time.time() - start)\n",
    "\n"
   ]
  },
  {
   "cell_type": "markdown",
   "id": "25848b0d",
   "metadata": {},
   "source": [
    "## Creating Array from Scratch"
   ]
  },
  {
   "cell_type": "code",
   "execution_count": 4,
   "id": "e1bcb317",
   "metadata": {},
   "outputs": [
    {
     "name": "stdout",
     "output_type": "stream",
     "text": [
      "Zero Matrix:\n",
      " [[0. 0. 0. 0.]\n",
      " [0. 0. 0. 0.]\n",
      " [0. 0. 0. 0.]\n",
      " [0. 0. 0. 0.]]\n",
      "Identity(1's) Matrix:\n",
      " [[1. 1. 1. 1.]\n",
      " [1. 1. 1. 1.]\n",
      " [1. 1. 1. 1.]\n",
      " [1. 1. 1. 1.]\n",
      " [1. 1. 1. 1.]]\n",
      "Constant/Full Matrix:\n",
      " [[9 9 9]\n",
      " [9 9 9]\n",
      " [9 9 9]]\n",
      "Random Value Matrix:\n",
      " [[0.99679086 0.94806158]\n",
      " [0.31470467 0.5438827 ]]\n",
      "Sequence:\n",
      " [0 2 4 6 8]\n",
      "Identity:\n",
      " [[1. 0. 0.]\n",
      " [0. 1. 0.]\n",
      " [0. 0. 1.]]\n"
     ]
    }
   ],
   "source": [
    "## Zeros Matrix\n",
    "zeros = np.zeros((4,4))\n",
    "print(\"Zero Matrix:\\n\", zeros) \n",
    "\n",
    "## Ones Matrix\n",
    "ones = np.ones((5,4))\n",
    "print(\"Identity(1's) Matrix:\\n\", ones) \n",
    "\n",
    "## Constant Matrix\n",
    "full = np.full((3,3),9)\n",
    "print(\"Constant/Full Matrix:\\n\", full) \n",
    "\n",
    "## Random Value Matrix\n",
    "r = np.random.random((2,2))\n",
    "print(\"Random Value Matrix:\\n\", r) \n",
    "\n",
    "## Sequence(Generates Array)\n",
    "seq = np.arange(0,10,2)\n",
    "print(\"Sequence:\\n\", seq) \n",
    "\n",
    "## Identity Matrix\n",
    "iden = np.eye(3)\n",
    "print(\"Identity:\\n\", iden)"
   ]
  },
  {
   "cell_type": "markdown",
   "id": "f311edca",
   "metadata": {},
   "source": [
    "## Vector, Matrix and Tensor "
   ]
  },
  {
   "cell_type": "code",
   "execution_count": 5,
   "id": "b8adc00f",
   "metadata": {},
   "outputs": [
    {
     "name": "stdout",
     "output_type": "stream",
     "text": [
      "Vector:\n",
      " [1 2 3]\n",
      "Matrix:\n",
      " [[1 2 3]\n",
      " [4 5 6]]\n",
      "Tensor/Multi-Dimensional Array:\n",
      " [[[ 1  2]\n",
      "  [ 3  4]]\n",
      "\n",
      " [[ 5  6]\n",
      "  [ 7  8]]\n",
      "\n",
      " [[ 9 10]\n",
      "  [11 12]]]\n"
     ]
    }
   ],
   "source": [
    "# 1D Array => Vector\n",
    "vector = np.array([1,2,3])\n",
    "print(\"Vector:\\n\", vector)\n",
    "\n",
    "# 2D Array => Matrix\n",
    "matrix = np.array([[1,2,3],\n",
    "                   [4,5,6]])\n",
    "print(\"Matrix:\\n\", matrix)\n",
    "\n",
    "# Multi Dimensional Array => Tensor\n",
    "tensor = np.array([[[1,2],[3,4]], \n",
    "                  [[5,6],[7,8]],\n",
    "                  [[9,10],[11,12]]])\n",
    "print(\"Tensor/Multi-Dimensional Array:\\n\", tensor)\n"
   ]
  },
  {
   "cell_type": "markdown",
   "id": "463250d1",
   "metadata": {},
   "source": [
    "## Array Properties"
   ]
  },
  {
   "cell_type": "code",
   "execution_count": 6,
   "id": "c35ab88d",
   "metadata": {},
   "outputs": [
    {
     "name": "stdout",
     "output_type": "stream",
     "text": [
      "Shape:\n",
      " (2, 3)\n",
      "Dimension:\n",
      " 2\n",
      "Size:\n",
      " 6\n",
      "Data Type:\n",
      " int64\n"
     ]
    }
   ],
   "source": [
    "matrix = np.array([[1,2,3],\n",
    "                   [4,5,6]])\n",
    "print(\"Shape:\\n\", matrix.shape) # No. of rows and columns\n",
    "print(\"Dimension:\\n\", matrix.ndim) # Array Dimension\n",
    "print(\"Size:\\n\", matrix.size) # No. elements in the Matrix\n",
    "print(\"Data Type:\\n\", matrix.dtype) # Data Type\n"
   ]
  },
  {
   "cell_type": "markdown",
   "id": "b2941197",
   "metadata": {},
   "source": [
    "## Array Reshaping"
   ]
  },
  {
   "cell_type": "code",
   "execution_count": 7,
   "id": "47d4a9fe",
   "metadata": {},
   "outputs": [
    {
     "name": "stdout",
     "output_type": "stream",
     "text": [
      "Original Array:\n",
      " [ 0  1  2  3  4  5  6  7  8  9 10 11]\n",
      "Reshaped Array:\n",
      " [[ 0  1  2  3]\n",
      " [ 4  5  6  7]\n",
      " [ 8  9 10 11]]\n",
      "Flattened Array:\n",
      " [ 0  1  2  3  4  5  6  7  8  9 10 11]\n",
      "Raveled Array:\n",
      " [ 0  1  2  3  4  5  6  7  8  9 10 11]\n",
      "Transposed Array:\n",
      " [[ 0  4  8]\n",
      " [ 1  5  9]\n",
      " [ 2  6 10]\n",
      " [ 3  7 11]]\n"
     ]
    }
   ],
   "source": [
    "arr = np.arange(12)\n",
    "print(\"Original Array:\\n\", arr)\n",
    "\n",
    "# Array Reshaping \n",
    "reshaped = arr.reshape((3,4)) # arr.reshape((row,col))\n",
    "print(\"Reshaped Array:\\n\", reshaped)\n",
    "\n",
    "# Converts to Single Line\n",
    "flat = reshaped.flatten()\n",
    "print(\"Flattened Array:\\n\", flat)\n",
    "\n",
    "# ravel (returns view, instead of copy)\n",
    "raveled = reshaped.ravel()\n",
    "print(\"Raveled Array:\\n\", raveled)\n",
    "\n",
    "# Transpose\n",
    "trans = reshaped.T\n",
    "print(\"Transposed Array:\\n\", trans)\n"
   ]
  }
 ],
 "metadata": {
  "kernelspec": {
   "display_name": "Python 3",
   "language": "python",
   "name": "python3"
  },
  "language_info": {
   "codemirror_mode": {
    "name": "ipython",
    "version": 3
   },
   "file_extension": ".py",
   "mimetype": "text/x-python",
   "name": "python",
   "nbconvert_exporter": "python",
   "pygments_lexer": "ipython3",
   "version": "3.12.5"
  }
 },
 "nbformat": 4,
 "nbformat_minor": 5
}
