{
 "cells": [
  {
   "cell_type": "markdown",
   "id": "c080d6ff",
   "metadata": {},
   "source": [
    "# Vector Operations"
   ]
  },
  {
   "cell_type": "code",
   "execution_count": 1,
   "id": "f1ccbdc9",
   "metadata": {},
   "outputs": [],
   "source": [
    "import numpy as np"
   ]
  },
  {
   "cell_type": "code",
   "execution_count": 2,
   "id": "34efd815",
   "metadata": {},
   "outputs": [
    {
     "name": "stdout",
     "output_type": "stream",
     "text": [
      "\n",
      "Vector Addition [ 6  8 10 12]\n",
      "\n",
      "Vector Multiplication [ 5 12 21 32]\n",
      "\n",
      "Vector Dot Product 70\n",
      "\n",
      "Cosine Similarity(Angle) 0.25019592042251176\n"
     ]
    }
   ],
   "source": [
    "vect1 = np.array([1,2,3,4])\n",
    "vect2 = np.array([5,6,7,8])\n",
    "\n",
    "print(\"\\nVector Addition\",vect1 + vect2)\n",
    "print(\"\\nVector Multiplication\",vect1 * vect2)\n",
    "\n",
    "# Dot Product Similarity\n",
    "print(\"\\nVector Dot Product\",np.dot(vect1,vect2))\n",
    "\n",
    "# Cosine Similarity\n",
    "angle = np.arccos(np.dot(vect1, vect2) / (np.linalg.norm(vect1) * np.linalg.norm(vect2)))\n",
    "print(\"\\nCosine Similarity(Angle)\",angle)\n",
    "\n",
    "# \n",
    "\n"
   ]
  },
  {
   "cell_type": "markdown",
   "id": "a29edc9d",
   "metadata": {},
   "source": [
    "# Vectorized Operation"
   ]
  },
  {
   "cell_type": "code",
   "execution_count": 3,
   "id": "b35647ec",
   "metadata": {},
   "outputs": [
    {
     "name": "stdout",
     "output_type": "stream",
     "text": [
      "\n",
      "Vectorized Upper Case ['BIRYANI' 'CHOWMEIN' 'MOMO' 'CHICKEN' 'MUTTON']\n",
      "\n",
      "Vectorized Upper Case ['biryani' 'chowmein' 'momo' 'chicken' 'mutton']\n"
     ]
    }
   ],
   "source": [
    "food = np.array(['BirYani', 'ChoWmeIn', 'mOMo', 'CHicKen', 'MuTTon'])\n",
    "\n",
    "vectorized_upper = np.vectorize(str.upper) \n",
    "print(\"\\nVectorized Upper Case\",vectorized_upper(food))\n",
    "\n",
    "vectorized_lower = np.vectorize(str.lower) \n",
    "print(\"\\nVectorized Upper Case\",vectorized_lower(food))\n"
   ]
  },
  {
   "cell_type": "markdown",
   "id": "45acc9bb",
   "metadata": {},
   "source": [
    "# Broadcasting"
   ]
  },
  {
   "cell_type": "code",
   "execution_count": 4,
   "id": "ddab35a3",
   "metadata": {},
   "outputs": [
    {
     "name": "stdout",
     "output_type": "stream",
     "text": [
      "\n",
      "Monthly Average Income\n",
      " [[12500.         15000.         16666.66666667 20833.33333333]\n",
      " [10000.         11666.66666667 13333.33333333 15833.33333333]\n",
      " [16666.66666667 19166.66666667 21666.66666667 25000.        ]\n",
      " [15000.         17500.         20000.         22500.        ]\n",
      " [13333.33333333 15000.         17083.33333333 19166.66666667]]\n"
     ]
    }
   ],
   "source": [
    "sales_data = np.array([\n",
    "                       [1, 150000, 180000, 200000, 250000], # Arsalan\n",
    "                       [2, 120000, 140000, 160000, 190000], # Chowman\n",
    "                       [3, 200000, 230000, 260000, 300000], # Dominos\n",
    "                       [4, 180000, 210000, 240000, 270000], # Burger King\n",
    "                       [5, 160000, 180000, 205000, 230000] # BTech Chaiwala\n",
    "])\n",
    "\n",
    "monthly_avg = sales_data[:, 1:] / 12  # Broadcasting....Scalar(12) iterated to each and every element of the Numpy Array \n",
    "print(\"\\nMonthly Average Income\\n\",monthly_avg)"
   ]
  }
 ],
 "metadata": {
  "kernelspec": {
   "display_name": "base",
   "language": "python",
   "name": "python3"
  },
  "language_info": {
   "codemirror_mode": {
    "name": "ipython",
    "version": 3
   },
   "file_extension": ".py",
   "mimetype": "text/x-python",
   "name": "python",
   "nbconvert_exporter": "python",
   "pygments_lexer": "ipython3",
   "version": "3.13.5"
  }
 },
 "nbformat": 4,
 "nbformat_minor": 5
}
